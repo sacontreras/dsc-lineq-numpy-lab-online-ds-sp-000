{
 "cells": [
  {
   "cell_type": "markdown",
   "metadata": {},
   "source": [
    "# Solving Systems of Linear Equations with NumPy - Lab\n",
    "\n",
    "## Introduction \n",
    "\n",
    "Now you've gathered all the required skills needed to solve systems of linear equations. You saw why there was a need to calculate inverses of matrices, followed by matrix multiplication to figure out the values of unknown variables. \n",
    "\n",
    "The exercises in this lab present some problems that can be converted into a system of linear equations. \n",
    "\n",
    "## Objectives\n",
    "You will be able to:\n",
    "\n",
    "- Use matrix algebra and NumPy to solve a system of linear equations given a real-life example \n",
    "- Use NumPy's linear algebra solver to solve for systems of linear equations\n",
    "\n",
    "## Exercise 1\n",
    "\n",
    "A coffee shop is having a sale on coffee and tea. \n",
    "\n",
    "On day 1, 29 bags of coffee and 41 bags of tea were sold, for a total of 490 dollars.\n",
    "\n",
    "On day 2, they sold 23 bags of coffee and 41 bags of tea, for which customers paid a total of 448 dollars.  \n",
    "\n",
    "How much does each bag cost?"
   ]
  },
  {
   "cell_type": "code",
   "execution_count": 1,
   "metadata": {},
   "outputs": [],
   "source": [
    "# Create and solve the relevant system of equations\n",
    "\n",
    "# set up\n",
    "# let x = cost of coffee, y = cost of tea\n",
    "# 29x + 41y = 490\n",
    "# 23x + 41y = 448\n",
    "\n",
    "# using numpy\n",
    "import numpy as np\n",
    "\n",
    "A = np.matrix([\n",
    "    [29, 41], \n",
    "    [23, 41]\n",
    "])\n",
    "B = np.matrix([\n",
    "    490, \n",
    "    448\n",
    "]).T\n",
    "\n",
    "C = np.linalg.solve(A, B)"
   ]
  },
  {
   "cell_type": "code",
   "execution_count": 2,
   "metadata": {},
   "outputs": [
    {
     "name": "stdout",
     "output_type": "stream",
     "text": [
      "coffee costs $7.0\n",
      "tea costs $7.0\n"
     ]
    }
   ],
   "source": [
    "# Describe your result\n",
    "print(f\"coffee costs ${np.round(C[0, 0])}\")\n",
    "print(f\"tea costs ${np.round(C[1, 0])}\")"
   ]
  },
  {
   "cell_type": "markdown",
   "metadata": {},
   "source": [
    "## Exercise 2\n",
    "\n",
    "The cost of admission to a popular music concert was 162 dollars for 12 children and 3 adults. \n",
    "\n",
    "The admission was 122 dollars for 8 children and 3 adults in the same music concert. \n",
    "\n",
    "How much was the admission for each child and adult?"
   ]
  },
  {
   "cell_type": "code",
   "execution_count": 3,
   "metadata": {},
   "outputs": [],
   "source": [
    "# Create and solve the relevant system of equations\n",
    "\n",
    "# set up\n",
    "# let x = admission cost for children, y = admission cost for adults\n",
    "# 12x + 3y = 162\n",
    "#  8x + 3y = 122\n",
    "\n",
    "# using numpy\n",
    "A = np.matrix([\n",
    "    [12,  3], \n",
    "    [ 8,  3]\n",
    "])\n",
    "B = np.matrix([\n",
    "    162, \n",
    "    122\n",
    "]).T\n",
    "\n",
    "C = np.linalg.solve(A, B)"
   ]
  },
  {
   "cell_type": "code",
   "execution_count": 4,
   "metadata": {},
   "outputs": [
    {
     "name": "stdout",
     "output_type": "stream",
     "text": [
      "admission for children is $10.0\n",
      "admission for adults is $14.0\n"
     ]
    }
   ],
   "source": [
    "# Describe your result\n",
    "print(f\"admission for children is ${np.round(C[0, 0])}\")\n",
    "print(f\"admission for adults is ${np.round(C[1, 0])}\")"
   ]
  },
  {
   "cell_type": "markdown",
   "metadata": {},
   "source": [
    "## Exercise 3\n",
    "\n",
    "You want to make a soup containing tomatoes, carrots, and onions.\n",
    "\n",
    "Suppose you don't know the exact mix to put in, but you know there are 7 individual pieces of vegetables, and there are twice as many tomatoes as onions, and that the 7 pieces of vegetables cost 5.25 USD in total. \n",
    "You also know that onions cost 0.5 USD each, tomatoes cost 0.75 USD and carrots cost 1.25 USD each.\n",
    "\n",
    "Create a system of equations to find out exactly how many of each of the vegetables are in your soup."
   ]
  },
  {
   "cell_type": "code",
   "execution_count": 5,
   "metadata": {},
   "outputs": [],
   "source": [
    "# Create and solve the relevant system of equations\n",
    "\n",
    "# set up\n",
    "# let x = no. of tomatoes, y = no. of onions, z = no. of carrots\n",
    "# x       +  y    +  z = 7\n",
    "# x = 2y, or\n",
    "# x +       -2y   + 0z = 0\n",
    "# 0.75x + 0.5y + 1.25z = 5.25\n",
    "\n",
    "# using numpy\n",
    "A = np.matrix([\n",
    "    [1,      1,    1], \n",
    "    [1,     -2,    0],\n",
    "    [0.75, 0.5, 1.25]\n",
    "])\n",
    "B = np.matrix([\n",
    "    7, \n",
    "    0,\n",
    "    5.25\n",
    "]).T\n",
    "\n",
    "C = np.linalg.solve(A, B)"
   ]
  },
  {
   "cell_type": "code",
   "execution_count": 6,
   "metadata": {},
   "outputs": [
    {
     "name": "stdout",
     "output_type": "stream",
     "text": [
      "4.0 tomatoes\n",
      "2.0 onions\n",
      "1.0 carrots\n"
     ]
    }
   ],
   "source": [
    "# Describe your result\n",
    "print(f\"{np.round(C[0, 0])} tomatoes\")\n",
    "print(f\"{np.round(C[1, 0])} onions\")\n",
    "print(f\"{np.round(C[2, 0])} carrots\")"
   ]
  },
  {
   "cell_type": "markdown",
   "metadata": {},
   "source": [
    "## Exercise 4\n",
    "\n",
    "A landlord owns 3 properties: a 1-bedroom, a 2-bedroom, and a 3-bedroom house. \n",
    "\n",
    "The total rent he receives is 1240 USD. \n",
    "\n",
    "He needs to make some repairs, where those repairs cost 10% of the 1-bedroom house’s rent. The 2-bedroom repairs cost 20% of the 2-bedroom rental price and 30% of the 3-bedroom house's rent for its repairs.  The total repair bill for all three houses was 276 USD. \n",
    "\n",
    "The 3-bedroom house's rent is twice the 1-bedroom house’s rent. \n",
    "\n",
    "How much is the individual rent for three houses?"
   ]
  },
  {
   "cell_type": "code",
   "execution_count": 7,
   "metadata": {},
   "outputs": [],
   "source": [
    "# Create and solve the relevant system of equations\n",
    "\n",
    "# set up\n",
    "# let x = rent for 1-br, y = rent for 2-br, z = rent for 3-br\n",
    "# x + y + z = 1240\n",
    "# 0.10x + 0.20y + 0.30z = 276\n",
    "# z = 2x, or\n",
    "# 2x + 0y - z = 0\n",
    "\n",
    "# using numpy\n",
    "A = np.matrix([\n",
    "    [ 1,  1,  1],\n",
    "    [.1, .2, .3], \n",
    "    [ 2,  0, -1]\n",
    "])\n",
    "B = np.matrix([\n",
    "    1240,\n",
    "     276, \n",
    "       0\n",
    "]).T\n",
    "\n",
    "C = np.linalg.solve(A, B)"
   ]
  },
  {
   "cell_type": "code",
   "execution_count": 8,
   "metadata": {},
   "outputs": [
    {
     "name": "stdout",
     "output_type": "stream",
     "text": [
      "rent for 1-br is $280.0\n",
      "rent for 2-br is $400.0\n",
      "rent for 3-br is $560.0\n"
     ]
    }
   ],
   "source": [
    "# Describe your result\n",
    "print(f\"rent for 1-br is ${np.round(C[0, 0])}\")\n",
    "print(f\"rent for 2-br is ${np.round(C[1, 0])}\")\n",
    "print(f\"rent for 3-br is ${np.round(C[2, 0])}\")"
   ]
  },
  {
   "cell_type": "markdown",
   "metadata": {},
   "source": [
    "## Summary\n",
    "In this lab, you learned how to use NumPy to solve linear equations by taking inverses and matrix multiplication and also using numpy's `solve()` function. You'll now take these skills forward and see how you can define a simple regression problem using linear algebra and solve it with Numpy. "
   ]
  }
 ],
 "metadata": {
  "kernelspec": {
   "display_name": "Python 3",
   "language": "python",
   "name": "python3"
  },
  "language_info": {
   "codemirror_mode": {
    "name": "ipython",
    "version": 3
   },
   "file_extension": ".py",
   "mimetype": "text/x-python",
   "name": "python",
   "nbconvert_exporter": "python",
   "pygments_lexer": "ipython3",
   "version": "3.7.6"
  }
 },
 "nbformat": 4,
 "nbformat_minor": 4
}
